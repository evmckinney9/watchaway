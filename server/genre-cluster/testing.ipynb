{
 "cells": [
  {
   "cell_type": "code",
   "execution_count": 3,
   "metadata": {},
   "outputs": [],
   "source": [
    "import tmdbsimple as tmdb\n",
    "# get api key from tmdb_config.json\n",
    "import json\n",
    "with open('tmdb_config.json') as f:\n",
    "    config = json.load(f)\n",
    "tmdb.API_KEY = config['TMDB_API_KEY']"
   ]
  },
  {
   "cell_type": "code",
   "execution_count": 6,
   "metadata": {},
   "outputs": [
    {
     "name": "stdout",
     "output_type": "stream",
     "text": [
      "Glass Onion: A Knives Out Mystery 661374 2022-11-23 3609.063\n",
      "Knives Out 546554 2019-11-27 142.475\n",
      "Knives Out 481638 2016-07-26 1.858\n",
      "Knives Out 1069067 2015-01-23 0.6\n"
     ]
    }
   ],
   "source": [
    "search = tmdb.Search()\n",
    "response = search.movie(query='knives out 2')\n",
    "for s in search.results:\n",
    "    print(s['title'], s['id'], s['release_date'], s['popularity'])"
   ]
  }
 ],
 "metadata": {
  "kernelspec": {
   "display_name": "genre_venv",
   "language": "python",
   "name": "python3"
  },
  "language_info": {
   "codemirror_mode": {
    "name": "ipython",
    "version": 3
   },
   "file_extension": ".py",
   "mimetype": "text/x-python",
   "name": "python",
   "nbconvert_exporter": "python",
   "pygments_lexer": "ipython3",
   "version": "3.10.6"
  },
  "orig_nbformat": 4,
  "vscode": {
   "interpreter": {
    "hash": "8e083321e376e85230a19dcd73e06765cefbe402daa8e306719c944756f6adca"
   }
  }
 },
 "nbformat": 4,
 "nbformat_minor": 2
}
