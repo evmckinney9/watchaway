{
 "cells": [
  {
   "cell_type": "code",
   "execution_count": 70,
   "metadata": {},
   "outputs": [],
   "source": [
    "from sklearn.feature_extraction.text import TfidfVectorizer, CountVectorizer\n",
    "from sklearn.cluster import KMeans\n",
    "from sklearn.metrics import adjusted_rand_score\n",
    "import re\n",
    "import pandas as pd\n",
    "from sklearn.decomposition import PCA\n",
    "from sklearn.decomposition import TruncatedSVD\n",
    "import nltk\n",
    "import matplotlib.pyplot as plt"
   ]
  },
  {
   "cell_type": "code",
   "execution_count": 60,
   "metadata": {},
   "outputs": [],
   "source": [
    "import tmdbsimple as tmdb\n",
    "# get api key from tmdb_config.json\n",
    "import json\n",
    "with open('../tmdb_config.json') as f:\n",
    "    config = json.load(f)\n",
    "tmdb.API_KEY = config['TMDB_API_KEY']"
   ]
  },
  {
   "cell_type": "code",
   "execution_count": 61,
   "metadata": {},
   "outputs": [],
   "source": [
    "mock_movie_titles =[\n",
    "    \"Iron Man\",\n",
    "    # 'The Dark Knight',\n",
    "    \"Ocean's Eleven\",\n",
    "    \"finding nemo\",\n",
    "    \"The Lord of the Rings: The Fellowship of the Ring\",\n",
    "    \"Die Hard\",\n",
    "    \"Marvel's The Avengers\",\n",
    "    \"The Godfather\",\n",
    "    \"The Shawshank Redemption\",\n",
    "    \"Inside\",\n",
    "    \"The Matrix\",\n",
    "    \"Nightmare on Elm Street\",\n",
    "    \"The Silence of the Lambs\",\n",
    "    \"The Sixth Sense\",\n",
    "    \"The Usual Suspects\",\n",
    "    \"The Departed\",\n",
    "    \"The Prestige\",\n",
    "    \"The Dark Knight Rises\",\n",
    "    \"The Jungle Book\",\n",
    "    \"The Lion King\",\n",
    "    \"Monsters Inc.\",\n",
    "    \"Toy Story\",\n",
    "    \"A Simple Favor\",\n",
    "    \"Mama Mia\",\n",
    "    \"The Notebook\",\n",
    "    \"The Fault in Our Stars\",\n",
    "    \"The Hunger Games\",\n",
    "    \"My Big Fat Greek Wedding\",\n",
    "    \"The Hangover\",\n",
    "    \"The Proposal\",\n",
    "    \"Bird Box\",\n",
    "    \"Birdman\",\n",
    "    \"The Shape of Water\"\n",
    "]"
   ]
  },
  {
   "cell_type": "code",
   "execution_count": 62,
   "metadata": {},
   "outputs": [],
   "source": [
    "# get movie ids from movie titles\n",
    "movie_ids = []\n",
    "for title in mock_movie_titles:\n",
    "    response = tmdb.Search().movie(query=title)\n",
    "    movie_ids.append(response['results'][0]['id'])"
   ]
  },
  {
   "cell_type": "code",
   "execution_count": 63,
   "metadata": {},
   "outputs": [
    {
     "name": "stdout",
     "output_type": "stream",
     "text": [
      "Jon Favreau\n"
     ]
    }
   ],
   "source": [
    "# Find the director of a movie\n",
    "def find_director(movie_id):\n",
    "    movie_credits = tmdb.Movies(movie_id).credits()\n",
    "    for crew_member in movie_credits['crew']:\n",
    "        if crew_member['job'] == 'Director':\n",
    "            return crew_member['name']\n",
    "    return None\n",
    "\n",
    "print(find_director(movie_ids[0]))"
   ]
  },
  {
   "cell_type": "code",
   "execution_count": 64,
   "metadata": {},
   "outputs": [],
   "source": [
    "# get movie details, we only need the overview, genres, release year, and director\n",
    "movie_details = []\n",
    "for movie in movie_ids[:]:\n",
    "    \n",
    "    details = tmdb.Movies(movie).info()\n",
    "    \n",
    "    # get genres, join them into a string\n",
    "    genres = \" \".join([genre['name'] for genre in details['genres']])\n",
    "\n",
    "    # get synopsis, do some preprocessing\n",
    "    overview = details['overview']\n",
    "    overview = overview.lower()\n",
    "    # use regex to remove all non-alphanumeric characters\n",
    "    overview = re.sub(r'[^a-zA-Z0-9\\s]', '', overview)\n",
    "\n",
    "    # get release year\n",
    "    release_year = int(details['release_date'].split(\"-\")[0])\n",
    "    \n",
    "    # get director\n",
    "    director = find_director(movie)\n",
    "\n",
    "    # go to imbd for more information\n",
    "    imdb_id = details['imdb_id']\n",
    "\n",
    "    # append to movie_details\n",
    "    movie_details.append({\n",
    "        'title': details['title'],\n",
    "        'overview': overview,\n",
    "        'genres': genres,\n",
    "        'release_year': release_year,\n",
    "        'director': director\n",
    "    })\n",
    "\n",
    "# convert to pandas dataframe\n",
    "pandas_movie_details = pd.DataFrame(movie_details)"
   ]
  },
  {
   "cell_type": "code",
   "execution_count": 65,
   "metadata": {},
   "outputs": [],
   "source": [
    "# nltk.download('punkt')\n",
    "# nltk.download('stopwords')\n",
    "\n",
    "from nltk.tokenize import word_tokenize\n",
    "from nltk.corpus import stopwords\n",
    "from nltk.stem import PorterStemmer\n",
    "\n",
    "stemmer = PorterStemmer()\n",
    "\n",
    "def stem_column(df, column_name):\n",
    "    # tokenize the text\n",
    "    df[column_name] = df[column_name].apply(lambda x: word_tokenize(x))\n",
    "    # remove stop words\n",
    "    df[column_name] = df[column_name].apply(lambda x: [word for word in x if word not in stopwords.words('english')])\n",
    "    # stem the words\n",
    "    df[column_name] = df[column_name].apply(lambda x: [stemmer.stem(word) for word in x])\n",
    "    # join the words back into a string\n",
    "    df[column_name] = df[column_name].apply(lambda x: \" \".join(x))\n",
    "\n",
    "# # print before\n",
    "# print(pandas_movie_details['overview'][0])\n",
    "\n",
    "stem_column(pandas_movie_details, 'overview')\n",
    "stem_column(pandas_movie_details, 'genres')\n",
    "\n",
    "# # print after\n",
    "# print(pandas_movie_details['overview'][0])"
   ]
  },
  {
   "cell_type": "code",
   "execution_count": 66,
   "metadata": {},
   "outputs": [],
   "source": [
    "# create a stemmer\n",
    "stemmer = PorterStemmer()\n",
    "\n",
    "# # stem the overview\n",
    "stemmed_overview = []\n",
    "for overview in pandas_movie_details['overview']:\n",
    "    stemmed_overview.append(\" \".join([stemmer.stem(word) for word in overview.split(\" \")]))\n",
    "\n",
    "# # stem the genres\n",
    "stemmed_genres = []\n",
    "for genres in pandas_movie_details['genres']:\n",
    "    stemmed_genres.append(\" \".join([stemmer.stem(word) for word in genres.split(\" \")]))\n",
    "\n",
    "# # update the dataframe with the stemmed text\n",
    "# pandas_movie_details['overview'] = stemmed_overview\n",
    "# pandas_movie_details['genres'] = stemmed_genres\n"
   ]
  },
  {
   "cell_type": "code",
   "execution_count": 67,
   "metadata": {},
   "outputs": [],
   "source": [
    "# #post stemming\n",
    "# print(pandas_movie_details['overview'][0])"
   ]
  },
  {
   "cell_type": "code",
   "execution_count": 99,
   "metadata": {},
   "outputs": [
    {
     "name": "stdout",
     "output_type": "stream",
     "text": [
      "['love', 'young', 'man', 'unexpect', 'romanc', 'comedi', 'world', 'children', 'action', 'stori', 'mysteri', 'thriller', 'year', 'life', 'famili', 'adventur', 'crime', 'scienc', 'fiction', 'drama']\n"
     ]
    },
    {
     "data": {
      "image/png": "[encoded data removed]",
      "text/plain": [
       "<Figure size 640x480 with 1 Axes>"
      ]
     },
     "metadata": {},
     "output_type": "display_data"
    },
    {
     "name": "stdout",
     "output_type": "stream",
     "text": [
      "Cluster:  4\n",
      "Iron Man 2\n",
      "The Avengers\n",
      "Inside Out\n",
      "The Matrix Resurrections\n",
      "The Hunger Games: Mockingjay - Part 1\n",
      "The Proposal\n",
      "\n",
      "Cluster:  1\n",
      "Ocean's Eleven\n",
      "The Godfather\n",
      "The Shawshank Redemption\n",
      "The Silence of the Lambs\n",
      "The Usual Suspects\n",
      "The Dark Knight Rises\n",
      "\n",
      "Cluster:  5\n",
      "Finding Nemo\n",
      "The Lord of the Rings: The Fellowship of the Ring\n",
      "The Sixth Sense\n",
      "The Jungle Book\n",
      "Toy Story\n",
      "Mama Mia - Nur keine Panik\n",
      "\n",
      "Cluster:  0\n",
      "Die Hard\n",
      "The Notebook\n",
      "My Big Fat Greek Wedding\n",
      "The Shape of Water\n",
      "\n",
      "Cluster:  3\n",
      "A Nightmare on Elm Street\n",
      "The Lion King\n",
      "Monsters, Inc.\n",
      "Bird Box\n",
      "\n",
      "Cluster:  2\n",
      "The Departed\n",
      "The Fault in Our Stars\n",
      "The Hangover\n",
      "Birdman or (The Unexpected Virtue of Ignorance)\n",
      "\n",
      "Cluster:  6\n",
      "The Prestige\n",
      "A Simple Favor\n",
      "\n"
     ]
    }
   ],
   "source": [
    "# prepare the dataframe for clustering\n",
    "df = pandas_movie_details.drop(columns=['title'])\n",
    "\n",
    "# create a tfidf vectorizer\n",
    "vectorizer = TfidfVectorizer(stop_words='english')\n",
    "\n",
    "# fit the vectorizer to the entire dataframe\n",
    "vectors = vectorizer.fit_transform(df['genres'] + \" \" + df['overview'])\n",
    "# vectors = vectorizer.fit_transform(df['overview'])\n",
    "\n",
    "# update the dataframe with the vectorized data\n",
    "df_vectors = pd.DataFrame(vectors.toarray(), columns=vectorizer.get_feature_names_out())\n",
    "\n",
    "# # print the number of columns\n",
    "# print(len(df_vectors.columns))\n",
    "\n",
    "# reduce dimensionality using PCA\n",
    "num_components = 20\n",
    "svd = TruncatedSVD(n_components=num_components)\n",
    "df_vectors_reduced = svd.fit_transform(df_vectors)\n",
    "\n",
    "# print the top 10 features after dimensionality reduction\n",
    "top_c = svd.components_.argsort()[:, -num_components:]\n",
    "print([vectorizer.get_feature_names_out()[i] for i in top_c[0]])\n",
    "\n",
    "from sklearn.metrics import silhouette_score\n",
    "\n",
    "# Compute the silhouette score for different values of n_clusters\n",
    "scores = []\n",
    "kmeans_models = {}\n",
    "for n_clusters in range(4,9):\n",
    "    kmeans = KMeans(n_clusters=n_clusters, n_init=10)\n",
    "    clusters = kmeans.fit_predict(df_vectors_reduced)\n",
    "    score = silhouette_score(df_vectors_reduced, clusters)\n",
    "    scores.append(score)\n",
    "    kmeans_models[score] = kmeans\n",
    "\n",
    "# Plot the silhouette scores\n",
    "plt.plot(range(4, 9), scores)\n",
    "plt.xlabel('Number of clusters')\n",
    "plt.ylabel('Silhouette score')\n",
    "plt.show()\n",
    "\n",
    "# save n_clusters that maximizes the silhouette score\n",
    "best_score = max(scores)\n",
    "best_model = kmeans_models[best_score]\n",
    "\n",
    "# add the labels, to the original dataframe\n",
    "pandas_movie_details['cluster'] = best_model.labels_\n",
    "\n",
    "# print each cluster and the movies in it\n",
    "for cluster in pandas_movie_details['cluster'].unique():\n",
    "    print(\"Cluster: \", cluster)\n",
    "    titles = pandas_movie_details[pandas_movie_details['cluster'] == cluster]['title']\n",
    "    for title in titles:\n",
    "        print(title)\n",
    "    print()"
   ]
  }
 ],
 "metadata": {
  "kernelspec": {
   "display_name": "genre_venv",
   "language": "python",
   "name": "python3"
  },
  "language_info": {
   "codemirror_mode": {
    "name": "ipython",
    "version": 3
   },
   "file_extension": ".py",
   "mimetype": "text/x-python",
   "name": "python",
   "nbconvert_exporter": "python",
   "pygments_lexer": "ipython3",
   "version": "3.10.6"
  },
  "orig_nbformat": 4,
  "vscode": {
   "interpreter": {
    "hash": "8e083321e376e85230a19dcd73e06765cefbe402daa8e306719c944756f6adca"
   }
  }
 },
 "nbformat": 4,
 "nbformat_minor": 2
}
